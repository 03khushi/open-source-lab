{
 "cells": [
  {
   "cell_type": "code",
   "execution_count": 16,
   "metadata": {},
   "outputs": [
    {
     "name": "stdout",
     "output_type": "stream",
     "text": [
      "a= [4, 1, 6, 2, 8, 3]\n",
      "Using bubble sort:  [1, 2, 3, 4, 6, 8]\n",
      "b= [14, 1, 6, 3, 9]\n",
      "Using insertion sort:  [1, 3, 6, 9, 14]\n",
      "c= [4, 2, 7, 8, 5, 0, 12]\n",
      "Using selection sort:  [0, 2, 4, 5, 7, 8, 12]\n"
     ]
    }
   ],
   "source": [
    "def bubble(a,n):\n",
    "    for i in range(n-1):\n",
    "        for j in range(n-1):\n",
    "            if a[j]>a[j+1]:\n",
    "                a[j],a[j+1]=a[j+1],a[j]\n",
    "    return a\n",
    "\n",
    "def insertion(a,n):\n",
    "    for i in range(1,n):\n",
    "        key=a[i]\n",
    "        j=i-1\n",
    "        while j>=0 and key<a[j]:\n",
    "            a[j+1]=a[j]\n",
    "            j-=1\n",
    "        a[j+1]=key\n",
    "    return a\n",
    "\n",
    "def selection(a,n):\n",
    "    for j in range(n):\n",
    "        for i in range(j+1,n):\n",
    "            if a[i]<a[j]:\n",
    "                a[j],a[i]=a[i],a[j]\n",
    "    return a\n",
    "\n",
    "def main():\n",
    "    a=[4,1,6,2,8,3]\n",
    "    print(\"a=\",a)\n",
    "    x=bubble(a,len(a))\n",
    "    print(\"Using bubble sort: \",x)\n",
    "    b=[14,1,6,3,9]\n",
    "    print(\"b=\",b)\n",
    "    x=insertion(b,len(b))\n",
    "    print(\"Using insertion sort: \",x)\n",
    "    c=[4,2,7,8,5,0,12]\n",
    "    print(\"c=\",c)\n",
    "    x=selection(c,len(c))\n",
    "    print(\"Using selection sort: \",x)\n",
    "main()"
   ]
  },
  {
   "cell_type": "code",
   "execution_count": null,
   "metadata": {},
   "outputs": [],
   "source": []
  },
  {
   "cell_type": "code",
   "execution_count": null,
   "metadata": {},
   "outputs": [],
   "source": []
  }
 ],
 "metadata": {
  "kernelspec": {
   "display_name": "Python 3",
   "language": "python",
   "name": "python3"
  },
  "language_info": {
   "codemirror_mode": {
    "name": "ipython",
    "version": 3
   },
   "file_extension": ".py",
   "mimetype": "text/x-python",
   "name": "python",
   "nbconvert_exporter": "python",
   "pygments_lexer": "ipython3",
   "version": "3.7.3"
  }
 },
 "nbformat": 4,
 "nbformat_minor": 2
}
